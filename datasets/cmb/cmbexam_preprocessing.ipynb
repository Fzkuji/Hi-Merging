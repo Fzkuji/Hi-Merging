{
 "cells": [
  {
   "metadata": {},
   "cell_type": "markdown",
   "source": "预处理第一步：合并测试集的题目和答案",
   "id": "be5125e8e3ab71fd"
  },
  {
   "metadata": {
    "ExecuteTime": {
     "end_time": "2024-09-09T07:57:36.566966Z",
     "start_time": "2024-09-09T07:57:34.545954Z"
    }
   },
   "cell_type": "code",
   "source": [
    "import json\n",
    "\n",
    "# 文件路径\n",
    "question_path = './CMB/CMB-Exam/CMB-test/CMB-test-choice-question-merge.json'\n",
    "answer_path = './CMB/CMB-Exam/CMB-test/CMB-test-choice-answer.json'\n",
    "\n",
    "# 读取文件的内容\n",
    "with open(question_path, 'r', encoding='utf-8') as answer_file:\n",
    "    answer_data = json.load(answer_file)\n",
    "\n",
    "with open(answer_path, 'r', encoding='utf-8') as question_file:\n",
    "    question_data = json.load(question_file)\n",
    "\n",
    "# 初始化存储合并结果的列表\n",
    "merged_data = []\n",
    "\n",
    "# 遍历答案数据\n",
    "for answer_item in answer_data:\n",
    "    for question_item in question_data:\n",
    "        if answer_item[\"id\"] == question_item[\"id\"]:\n",
    "            # 将两个数据字典合并\n",
    "            merged_item = {**question_item, **answer_item}\n",
    "            merged_data.append(merged_item)\n",
    "            break\n",
    "\n",
    "# 将合并后的数据保存到新的文件中\n",
    "with open('./CMB/CMB-Exam/CMB-test/CMB-test-merged-with-id.json', 'w', encoding='utf-8') as merged_file:\n",
    "    json.dump(merged_data, merged_file, ensure_ascii=False, indent=4)\n",
    "\n",
    "print(\"合并完成，数据已保存到 CMB-test-choice-merged-with-id.json 文件中。\")\n"
   ],
   "id": "2ead8ebe22d1bed2",
   "outputs": [
    {
     "name": "stdout",
     "output_type": "stream",
     "text": [
      "合并完成，数据已保存到 CMB-test-choice-merged-with-id.json 文件中。\n"
     ]
    }
   ],
   "execution_count": 4
  },
  {
   "metadata": {},
   "cell_type": "markdown",
   "source": "预处理第二步：将train、valid和test的字段统一起来，主要是删除测试集的id还有验证集的explanation字段",
   "id": "2cdc6572b1bfea28"
  },
  {
   "metadata": {
    "ExecuteTime": {
     "end_time": "2024-09-09T07:57:37.704989Z",
     "start_time": "2024-09-09T07:57:37.599535Z"
    }
   },
   "cell_type": "code",
   "source": [
    "# 文件路径\n",
    "merge_path = './CMB/CMB-Exam/CMB-test/CMB-test-merged-with-id.json'\n",
    "\n",
    "# 加载测试集\n",
    "with open(merge_path, 'r', encoding='utf-8') as merge_file:\n",
    "    merge_data = json.load(merge_file)\n",
    "\n",
    "# 删除测试集的id字段\n",
    "for item in merge_data:\n",
    "    del item[\"id\"]\n",
    "    \n",
    "# 保存到新的文件中\n",
    "with open('./CMB/CMB-Exam/CMB-test/CMB-test-merge.json', 'w', encoding='utf-8') as merge_file:\n",
    "    json.dump(merge_data, merge_file, ensure_ascii=False, indent=4)\n",
    "    \n",
    "print(\"字段统一完成，数据已保存到 CMB-test-merge.json 文件中。\")"
   ],
   "id": "c0542800b55838d1",
   "outputs": [
    {
     "name": "stdout",
     "output_type": "stream",
     "text": [
      "字段统一完成，数据已保存到 CMB-test-merged.json 文件中。\n"
     ]
    }
   ],
   "execution_count": 5
  },
  {
   "metadata": {
    "ExecuteTime": {
     "end_time": "2024-09-09T08:43:40.171865Z",
     "start_time": "2024-09-09T08:43:40.161872Z"
    }
   },
   "cell_type": "code",
   "source": [
    "# 文件路径\n",
    "train_path = './CMB/CMB-Exam/CMB-val/CMB-val-merge.json'\n",
    "\n",
    "# 加载验证集\n",
    "with open(train_path, 'r', encoding='utf-8') as train_file:\n",
    "    train_data = json.load(train_file)\n",
    "    \n",
    "# 删除验证集的explanation字段\n",
    "for item in train_data:\n",
    "    del item[\"explanation\"]\n",
    "    \n",
    "# 保存到新的文件中\n",
    "with open('./CMB/CMB-Exam/CMB-val/CMB-val-merge.json', 'w', encoding='utf-8') as train_file:\n",
    "    json.dump(train_data, train_file, ensure_ascii=False, indent=4)\n",
    "    \n",
    "print(\"字段统一完成，数据已保存到 CMB-val-merge.json 文件中。\")"
   ],
   "id": "566f2d1e6fc551e9",
   "outputs": [
    {
     "name": "stdout",
     "output_type": "stream",
     "text": [
      "字段统一完成，数据已保存到 CMB-val-merge.json 文件中。\n"
     ]
    }
   ],
   "execution_count": 8
  },
  {
   "metadata": {},
   "cell_type": "markdown",
   "source": "预处理第三步：将数据集option字段的格式从字典转化为列表",
   "id": "84a1b5c5e12a8dbd"
  },
  {
   "metadata": {
    "ExecuteTime": {
     "end_time": "2024-09-09T09:18:26.355571Z",
     "start_time": "2024-09-09T09:18:21.625915Z"
    }
   },
   "cell_type": "code",
   "source": [
    "# 样例\n",
    "# 从{ \"A\": \"视网膜血管炎\", \"B\": \"黄斑水肿\", \"C\": \"脉络膜炎\", \"D\": \"下方玻璃体的雪球样混浊\", \"E\": \"肉芽肿性前葡萄膜炎\", \"F\": null }\n",
    "# 变成 [ { \"key\": \"A\", \"value\": \"精神紧张诱发\" }, { \"key\": \"B\", \"value\": \"含化硝酸甘油减轻\" }, { \"key\": \"C\", \"value\": \"呼吸时加重，屏气时消失\" }, { \"key\": \"D\", \"value\": \"压迫加剧\" }, { \"key\": \"E\", \"value\": \"进食加剧\" } ]\n",
    "\n",
    "import json\n",
    "\n",
    "# 文件路径\n",
    "train_path = './CMB/CMB-Exam/CMB-train/CMB-train-merge.json'\n",
    "val_path = './CMB/CMB-Exam/CMB-val/CMB-val-merge.json'\n",
    "test_path = './CMB/CMB-Exam/CMB-test/CMB-test-merge.json'\n",
    "\n",
    "# 加载训练集\n",
    "with open(train_path, 'r', encoding='utf-8') as train_file:\n",
    "    train_data = json.load(train_file)\n",
    "    \n",
    "# 加载验证集\n",
    "with open(val_path, 'r', encoding='utf-8') as val_file:\n",
    "    val_data = json.load(val_file)\n",
    "    \n",
    "# 加载测试集\n",
    "with open(test_path, 'r', encoding='utf-8') as test_file:\n",
    "    test_data = json.load(test_file)\n",
    "    \n",
    "# 将option字段的格式从字典转化为列表\n",
    "def convert_option(data):\n",
    "    for item in data:\n",
    "        option = []\n",
    "        for key, value in item[\"option\"].items():\n",
    "            if value:\n",
    "                option.append({\"key\": key, \"value\": value})\n",
    "        item[\"option\"] = option\n",
    "        \n",
    "convert_option(train_data)\n",
    "convert_option(val_data)\n",
    "convert_option(test_data)\n",
    "\n",
    "# 保存到新的文件中\n",
    "with open(train_path, 'w', encoding='utf-8') as train_file:\n",
    "    json.dump(train_data, train_file, ensure_ascii=False, indent=4)\n",
    "    \n",
    "with open(val_path, 'w', encoding='utf-8') as val_file:\n",
    "    json.dump(val_data, val_file, ensure_ascii=False, indent=4)\n",
    "    \n",
    "with open(test_path, 'w', encoding='utf-8') as test_file:\n",
    "    json.dump(test_data, test_file, ensure_ascii=False, indent=4)"
   ],
   "id": "35dfd0303032468a",
   "outputs": [],
   "execution_count": 3
  },
  {
   "metadata": {},
   "cell_type": "code",
   "outputs": [],
   "execution_count": null,
   "source": "",
   "id": "981c1a2d0dff8354"
  }
 ],
 "metadata": {
  "kernelspec": {
   "display_name": "Python 3",
   "language": "python",
   "name": "python3"
  },
  "language_info": {
   "codemirror_mode": {
    "name": "ipython",
    "version": 2
   },
   "file_extension": ".py",
   "mimetype": "text/x-python",
   "name": "python",
   "nbconvert_exporter": "python",
   "pygments_lexer": "ipython2",
   "version": "2.7.6"
  }
 },
 "nbformat": 4,
 "nbformat_minor": 5
}
