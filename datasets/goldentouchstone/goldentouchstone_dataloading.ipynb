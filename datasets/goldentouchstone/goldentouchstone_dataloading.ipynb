{
 "cells": [
  {
   "metadata": {
    "ExecuteTime": {
     "end_time": "2024-12-11T03:49:42.996437Z",
     "start_time": "2024-12-11T03:48:42.603964Z"
    }
   },
   "cell_type": "code",
   "source": [
    "from datasets import load_dataset\n",
    "import json\n",
    "import os\n",
    "\n",
    "# 定义中文和英文子数据集列表\n",
    "cn_benchmarks = [\n",
    "    \"CPA\", \"Fineval-multiple_choice\", \"fincqa\", \"finese\", \"finfe\", \"finna\", \"finnl\", \"finqa\", \"finre\", \"stockA_prediction\"\n",
    "]\n",
    "en_benchmarks = [\n",
    "    \"CFA-multiple_choice\", \"DJIA_stock_prediction\", \"convfinqa\", \"cra-lendingclub\", \"edtsum\", \"finqa\", \"finred\", \"fiqasa\", \"fomc\", \"fpb\", \"headlines\", \"ner\"\n",
    "]\n",
    "\n",
    "# Alpaca 格式转换函数\n",
    "def convert_to_alpaca_format(dataset):\n",
    "    alpaca_dataset = []\n",
    "    for data in dataset:\n",
    "        # 假设数据集中有'question', 'choices', 'answer'字段，根据实际数据集调整字段名称\n",
    "        alpaca_data = {\n",
    "            \"instruction\": data['instruction'],\n",
    "            \"input\": data['input'],\n",
    "            \"output\": data['output']\n",
    "        }\n",
    "        alpaca_dataset.append(alpaca_data)\n",
    "    return alpaca_dataset\n",
    "\n",
    "# 保存数据集到 JSON 文件\n",
    "def save_dataset(dataset, save_path):\n",
    "    if not os.path.exists(os.path.dirname(save_path)):\n",
    "        os.makedirs(os.path.dirname(save_path))\n",
    "    with open(save_path, 'w', encoding='utf-8') as f:\n",
    "        json.dump(dataset, f, ensure_ascii=False, indent=4)\n",
    "\n",
    "# 主程序：遍历数据集并保存\n",
    "save_path = \"./data/llama-factory\"\n",
    "\n",
    "# 遍历中文数据集\n",
    "for benchmark in cn_benchmarks:\n",
    "    try:\n",
    "        dataset = load_dataset(\"IDEA-FinAI/Golden-Touchstone\", data_dir=f\"CN-benchmark/{benchmark}\")\n",
    "        if \"test\" in dataset:\n",
    "            alpaca_dataset = convert_to_alpaca_format(dataset[\"test\"])\n",
    "            save_dataset(alpaca_dataset, f\"{save_path}/CN/{benchmark}_test.json\")\n",
    "            print(f\"Saved CN benchmark {benchmark} test set to Alpaca format.\")\n",
    "    except Exception as e:\n",
    "        print(f\"Failed to process CN benchmark {benchmark}: {e}\")\n",
    "\n",
    "# 遍历英文数据集\n",
    "for benchmark in en_benchmarks:\n",
    "    try:\n",
    "        dataset = load_dataset(\"IDEA-FinAI/Golden-Touchstone\", data_dir=f\"EN-benchmark/{benchmark}\")\n",
    "        if \"test\" in dataset:\n",
    "            alpaca_dataset = convert_to_alpaca_format(dataset[\"test\"])\n",
    "            save_dataset(alpaca_dataset, f\"{save_path}/EN/{benchmark}_test.json\")\n",
    "            print(f\"Saved EN benchmark {benchmark} test set to Alpaca format.\")\n",
    "    except Exception as e:\n",
    "        print(f\"Failed to process EN benchmark {benchmark}: {e}\")\n"
   ],
   "id": "a54e4ffd455410f8",
   "outputs": [
    {
     "name": "stdout",
     "output_type": "stream",
     "text": [
      "Saved CN benchmark CPA test set to Alpaca format.\n",
      "Saved CN benchmark Fineval-multiple_choice test set to Alpaca format.\n",
      "Saved CN benchmark fincqa test set to Alpaca format.\n",
      "Saved CN benchmark finese test set to Alpaca format.\n"
     ]
    },
    {
     "data": {
      "text/plain": [
       "Generating train split: 0 examples [00:00, ? examples/s]"
      ],
      "application/vnd.jupyter.widget-view+json": {
       "version_major": 2,
       "version_minor": 0,
       "model_id": "8b3af96e8b8e441197cabf5075c655ad"
      }
     },
     "metadata": {},
     "output_type": "display_data"
    },
    {
     "data": {
      "text/plain": [
       "Generating test split: 0 examples [00:00, ? examples/s]"
      ],
      "application/vnd.jupyter.widget-view+json": {
       "version_major": 2,
       "version_minor": 0,
       "model_id": "859de2ac352a43d98bb0ebdccec86929"
      }
     },
     "metadata": {},
     "output_type": "display_data"
    },
    {
     "name": "stdout",
     "output_type": "stream",
     "text": [
      "Saved CN benchmark finfe test set to Alpaca format.\n"
     ]
    },
    {
     "data": {
      "text/plain": [
       "Generating train split: 0 examples [00:00, ? examples/s]"
      ],
      "application/vnd.jupyter.widget-view+json": {
       "version_major": 2,
       "version_minor": 0,
       "model_id": "d3c77b9eba584f72ac2350a528556de8"
      }
     },
     "metadata": {},
     "output_type": "display_data"
    },
    {
     "data": {
      "text/plain": [
       "Generating test split: 0 examples [00:00, ? examples/s]"
      ],
      "application/vnd.jupyter.widget-view+json": {
       "version_major": 2,
       "version_minor": 0,
       "model_id": "f03e0062ddec49dcb7486148e95c4df2"
      }
     },
     "metadata": {},
     "output_type": "display_data"
    },
    {
     "name": "stdout",
     "output_type": "stream",
     "text": [
      "Saved CN benchmark finna test set to Alpaca format.\n"
     ]
    },
    {
     "data": {
      "text/plain": [
       "Generating train split: 0 examples [00:00, ? examples/s]"
      ],
      "application/vnd.jupyter.widget-view+json": {
       "version_major": 2,
       "version_minor": 0,
       "model_id": "6bdfa0b2800d4349b5ff4e63428a9e1a"
      }
     },
     "metadata": {},
     "output_type": "display_data"
    },
    {
     "data": {
      "text/plain": [
       "Generating test split: 0 examples [00:00, ? examples/s]"
      ],
      "application/vnd.jupyter.widget-view+json": {
       "version_major": 2,
       "version_minor": 0,
       "model_id": "7be98e89da064681a0ba43751c4a6c79"
      }
     },
     "metadata": {},
     "output_type": "display_data"
    },
    {
     "name": "stdout",
     "output_type": "stream",
     "text": [
      "Saved CN benchmark finnl test set to Alpaca format.\n"
     ]
    },
    {
     "data": {
      "text/plain": [
       "Generating train split: 0 examples [00:00, ? examples/s]"
      ],
      "application/vnd.jupyter.widget-view+json": {
       "version_major": 2,
       "version_minor": 0,
       "model_id": "62f8d36a1f3f4b54aa5eba5e6dd27958"
      }
     },
     "metadata": {},
     "output_type": "display_data"
    },
    {
     "data": {
      "text/plain": [
       "Generating test split: 0 examples [00:00, ? examples/s]"
      ],
      "application/vnd.jupyter.widget-view+json": {
       "version_major": 2,
       "version_minor": 0,
       "model_id": "1c75129e61de4d9ab98b498287012282"
      }
     },
     "metadata": {},
     "output_type": "display_data"
    },
    {
     "name": "stdout",
     "output_type": "stream",
     "text": [
      "Saved CN benchmark finqa test set to Alpaca format.\n"
     ]
    },
    {
     "data": {
      "text/plain": [
       "Generating train split: 0 examples [00:00, ? examples/s]"
      ],
      "application/vnd.jupyter.widget-view+json": {
       "version_major": 2,
       "version_minor": 0,
       "model_id": "c1a4bcc31a7c4a48a8f9b4d4d1a8af4e"
      }
     },
     "metadata": {},
     "output_type": "display_data"
    },
    {
     "data": {
      "text/plain": [
       "Generating test split: 0 examples [00:00, ? examples/s]"
      ],
      "application/vnd.jupyter.widget-view+json": {
       "version_major": 2,
       "version_minor": 0,
       "model_id": "8237444515b24622976bc1b3c86e933e"
      }
     },
     "metadata": {},
     "output_type": "display_data"
    },
    {
     "name": "stdout",
     "output_type": "stream",
     "text": [
      "Saved CN benchmark finre test set to Alpaca format.\n",
      "Saved CN benchmark stockA_prediction test set to Alpaca format.\n",
      "Saved EN benchmark CFA-multiple_choice test set to Alpaca format.\n",
      "Saved EN benchmark DJIA_stock_prediction test set to Alpaca format.\n",
      "Saved EN benchmark convfinqa test set to Alpaca format.\n",
      "Saved EN benchmark cra-lendingclub test set to Alpaca format.\n",
      "Saved EN benchmark edtsum test set to Alpaca format.\n",
      "Saved EN benchmark finqa test set to Alpaca format.\n",
      "Saved EN benchmark finred test set to Alpaca format.\n",
      "Saved EN benchmark fiqasa test set to Alpaca format.\n",
      "Saved EN benchmark fomc test set to Alpaca format.\n",
      "Saved EN benchmark fpb test set to Alpaca format.\n",
      "Saved EN benchmark headlines test set to Alpaca format.\n",
      "Saved EN benchmark ner test set to Alpaca format.\n"
     ]
    }
   ],
   "execution_count": 7
  },
  {
   "metadata": {},
   "cell_type": "code",
   "outputs": [],
   "execution_count": null,
   "source": "",
   "id": "af7a74a605eff75f"
  }
 ],
 "metadata": {
  "kernelspec": {
   "display_name": "Python 3",
   "language": "python",
   "name": "python3"
  },
  "language_info": {
   "codemirror_mode": {
    "name": "ipython",
    "version": 2
   },
   "file_extension": ".py",
   "mimetype": "text/x-python",
   "name": "python",
   "nbconvert_exporter": "python",
   "pygments_lexer": "ipython2",
   "version": "2.7.6"
  }
 },
 "nbformat": 4,
 "nbformat_minor": 5
}
