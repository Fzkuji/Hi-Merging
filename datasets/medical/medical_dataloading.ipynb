{
 "cells": [
  {
   "metadata": {
    "ExecuteTime": {
     "end_time": "2024-12-11T05:54:36.308217Z",
     "start_time": "2024-12-11T05:53:47.118407Z"
    }
   },
   "cell_type": "code",
   "source": [
    "from datasets import load_dataset, DatasetDict\n",
    "import json\n",
    "import os\n",
    "\n",
    "# Medical dataset subsets\n",
    "medical_benchmarks = [\n",
    "    \"chatdoctor_healthcaremagic\", \"chatdoctor_icliniq\", \"medical_meadow_cord19\", \"medical_meadow_health_advice\",\n",
    "    \"medical_meadow_medical_flashcards\", \"medical_meadow_mediqa\", \"medical_meadow_medqa\", \"medical_meadow_mmml\",\n",
    "    \"medical_meadow_pubmed_causal\", \"medical_meadow_wikidoc\", \"medical_meadow_wikidoc_patient_information\"\n",
    "]\n",
    "\n",
    "# Alpaca 格式转换函数\n",
    "def convert_to_alpaca_format(dataset):\n",
    "    alpaca_dataset = []\n",
    "    for data in dataset:\n",
    "        # 假设数据集中有'instruction', 'input', 'output'字段，根据实际数据集调整字段名称\n",
    "        alpaca_data = {\n",
    "            \"instruction\": data.get('instruction', \"\"),\n",
    "            \"input\": data.get('input', \"\"),\n",
    "            \"output\": data.get('output', \"\")\n",
    "        }\n",
    "        alpaca_dataset.append(alpaca_data)\n",
    "    return alpaca_dataset\n",
    "\n",
    "# 保存数据集到 JSON 文件\n",
    "def save_dataset(dataset, save_path):\n",
    "    if not os.path.exists(os.path.dirname(save_path)):\n",
    "        os.makedirs(os.path.dirname(save_path))\n",
    "    with open(save_path, 'w', encoding='utf-8') as f:\n",
    "        json.dump(dataset, f, ensure_ascii=False, indent=4)\n",
    "\n",
    "# 主程序：遍历数据集并保存\n",
    "save_path = \"./data/llama-factory\"\n",
    "\n",
    "# 遍历医疗数据集\n",
    "for benchmark in medical_benchmarks:\n",
    "    try:\n",
    "        # 加载完整数据集\n",
    "        dataset = load_dataset(\n",
    "            \"Malikeh1375/medical-question-answering-datasets\",\n",
    "            data_files={\"train\": f\"{benchmark}/train-*.parquet\"},\n",
    "            split=\"train\"\n",
    "        )\n",
    "\n",
    "        # 切分数据集为 90% 训练集和 10% 测试+验证集\n",
    "        train_testvalid = dataset.train_test_split(test_size=0.1)\n",
    "\n",
    "        # 将测试+验证集切分为 50% 测试集和 50% 验证集\n",
    "        test_valid = train_testvalid['test'].train_test_split(test_size=0.5)\n",
    "\n",
    "        # 合并为一个 DatasetDict\n",
    "        train_test_valid_dataset = DatasetDict({\n",
    "            'train': train_testvalid['train'],\n",
    "            'test': test_valid['test'],\n",
    "            'valid': test_valid['train']\n",
    "        })\n",
    "\n",
    "        # 转换为 Alpaca 格式并保存\n",
    "        train_alpaca_dataset = convert_to_alpaca_format(train_test_valid_dataset['train'])\n",
    "        test_alpaca_dataset = convert_to_alpaca_format(train_test_valid_dataset['test'])\n",
    "        valid_alpaca_dataset = convert_to_alpaca_format(train_test_valid_dataset['valid'])\n",
    "\n",
    "        # save_dataset(train_alpaca_dataset, f\"{save_path}/Medical/{benchmark}_train.json\")\n",
    "        save_dataset(test_alpaca_dataset, f\"{save_path}/Medical/{benchmark}_test.json\")\n",
    "        # save_dataset(valid_alpaca_dataset, f\"{save_path}/Medical/{benchmark}_valid.json\")\n",
    "\n",
    "        print(f\"Saved Medical benchmark {benchmark} train, test, and valid sets to Alpaca format.\")\n",
    "    except Exception as e:\n",
    "        print(f\"Failed to process Medical benchmark {benchmark}: {e}\")\n"
   ],
   "id": "af7a74a605eff75f",
   "outputs": [
    {
     "name": "stdout",
     "output_type": "stream",
     "text": [
      "Saved Medical benchmark chatdoctor_healthcaremagic train, test, and valid sets to Alpaca format.\n",
      "Saved Medical benchmark chatdoctor_icliniq train, test, and valid sets to Alpaca format.\n",
      "Saved Medical benchmark medical_meadow_cord19 train, test, and valid sets to Alpaca format.\n",
      "Saved Medical benchmark medical_meadow_health_advice train, test, and valid sets to Alpaca format.\n",
      "Saved Medical benchmark medical_meadow_medical_flashcards train, test, and valid sets to Alpaca format.\n",
      "Saved Medical benchmark medical_meadow_mediqa train, test, and valid sets to Alpaca format.\n",
      "Saved Medical benchmark medical_meadow_medqa train, test, and valid sets to Alpaca format.\n"
     ]
    },
    {
     "name": "stderr",
     "output_type": "stream",
     "text": [
      "Using the latest cached version of the dataset since Malikeh1375/medical-question-answering-datasets couldn't be found on the Hugging Face Hub\n"
     ]
    },
    {
     "name": "stdout",
     "output_type": "stream",
     "text": [
      "Failed to process Medical benchmark medical_meadow_mmml: Couldn't find cache for Malikeh1375/medical-question-answering-datasets for config 'default-c7ef9f2d0f4ded5c'\n",
      "Available configs in the cache: ['default-4f4b19e1fee98406', 'default-735cf2986ff21102', 'default-8073e0ffd7d4de50', 'default-8bc334fc6dbb8637', 'default-8ea3d03aa36961ec', 'default-a3d5c4e94d59ef60', 'default-a824bbe8c00394fc', 'default-b64e7dfa36979661', 'default-c9032c12c111c5d9', 'default-d6e51a8b35b1d2f1']\n",
      "Saved Medical benchmark medical_meadow_pubmed_causal train, test, and valid sets to Alpaca format.\n",
      "Saved Medical benchmark medical_meadow_wikidoc train, test, and valid sets to Alpaca format.\n",
      "Saved Medical benchmark medical_meadow_wikidoc_patient_information train, test, and valid sets to Alpaca format.\n"
     ]
    }
   ],
   "execution_count": 12
  },
  {
   "metadata": {},
   "cell_type": "code",
   "outputs": [],
   "execution_count": null,
   "source": "",
   "id": "3043470c5ce17c60"
  }
 ],
 "metadata": {
  "kernelspec": {
   "display_name": "Python 3",
   "language": "python",
   "name": "python3"
  },
  "language_info": {
   "codemirror_mode": {
    "name": "ipython",
    "version": 2
   },
   "file_extension": ".py",
   "mimetype": "text/x-python",
   "name": "python",
   "nbconvert_exporter": "python",
   "pygments_lexer": "ipython2",
   "version": "2.7.6"
  }
 },
 "nbformat": 4,
 "nbformat_minor": 5
}
