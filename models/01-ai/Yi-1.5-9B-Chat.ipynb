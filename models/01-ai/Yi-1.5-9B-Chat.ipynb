{
 "cells": [
  {
   "metadata": {},
   "cell_type": "markdown",
   "source": "https://huggingface.co/01-ai/Yi-1.5-9B-Chat",
   "id": "8cd54e3cb00fd183"
  },
  {
   "metadata": {
    "collapsed": true,
    "ExecuteTime": {
     "end_time": "2024-11-01T11:43:56.002079Z",
     "start_time": "2024-11-01T11:43:42.958812Z"
    }
   },
   "cell_type": "code",
   "outputs": [
    {
     "data": {
      "text/plain": [
       "Loading checkpoint shards:   0%|          | 0/4 [00:00<?, ?it/s]"
      ],
      "application/vnd.jupyter.widget-view+json": {
       "version_major": 2,
       "version_minor": 0,
       "model_id": "c5bae6bc34f84a72b362fb02cad4fdce"
      }
     },
     "metadata": {},
     "output_type": "display_data"
    }
   ],
   "execution_count": 1,
   "source": [
    "from transformers import AutoModelForCausalLM, AutoTokenizer\n",
    "\n",
    "model_path = '01-ai/Yi-1.5-9B-Chat'\n",
    "\n",
    "tokenizer = AutoTokenizer.from_pretrained(model_path, use_fast=False)\n",
    "\n",
    "# Since transformers 4.35.0, the GPT-Q/AWQ model can be loaded using AutoModelForCausalLM.\n",
    "model = AutoModelForCausalLM.from_pretrained(\n",
    "    model_path,\n",
    "    device_map=\"cuda\",\n",
    "    torch_dtype='auto'\n",
    ").eval()\n",
    "\n"
   ],
   "id": "initial_id"
  },
  {
   "metadata": {
    "ExecuteTime": {
     "end_time": "2024-11-01T11:44:50.379426Z",
     "start_time": "2024-11-01T11:44:49.189594Z"
    }
   },
   "cell_type": "code",
   "source": [
    "# Prompt content: \"hi\"\n",
    "prompt = \"问题：胃癌最主要的转移途径是（　　）。\\n选项：\\n\\t直接蔓延\\n\\t淋巴转移\\n\\t血行转移\\n\\t盆腔转移\"\n",
    "messages = [\n",
    "    {\"role\": \"system\", \"content\": \"假设您是一名医生，请直接输出下面选择题的正确答案，不需要额外回答\"},\n",
    "    {\"role\": \"user\", \"content\": prompt}\n",
    "]\n",
    "\n",
    "input_ids = tokenizer.apply_chat_template(conversation=messages, tokenize=True, return_tensors='pt')\n",
    "output_ids = model.generate(input_ids.to('cuda'), eos_token_id=tokenizer.eos_token_id, max_length=100)\n",
    "response = tokenizer.decode(output_ids[0][input_ids.shape[1]:], skip_special_tokens=True)\n",
    "\n",
    "# Model response: \"Hello! How can I assist you today?\"\n",
    "print(response)"
   ],
   "id": "547fd570de90ff85",
   "outputs": [
    {
     "name": "stdout",
     "output_type": "stream",
     "text": [
      "淋巴转移\n"
     ]
    }
   ],
   "execution_count": 4
  },
  {
   "metadata": {
    "ExecuteTime": {
     "end_time": "2024-11-01T11:40:17.218504Z",
     "start_time": "2024-11-01T11:40:17.215672Z"
    }
   },
   "cell_type": "code",
   "source": "",
   "id": "9fe5251255647e46",
   "outputs": [],
   "execution_count": null
  }
 ],
 "metadata": {
  "kernelspec": {
   "display_name": "Python 3",
   "language": "python",
   "name": "python3"
  },
  "language_info": {
   "codemirror_mode": {
    "name": "ipython",
    "version": 2
   },
   "file_extension": ".py",
   "mimetype": "text/x-python",
   "name": "python",
   "nbconvert_exporter": "python",
   "pygments_lexer": "ipython2",
   "version": "2.7.6"
  }
 },
 "nbformat": 4,
 "nbformat_minor": 5
}
