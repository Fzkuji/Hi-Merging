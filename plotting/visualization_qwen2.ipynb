{
 "cells": [
  {
   "cell_type": "code",
   "execution_count": null,
   "id": "initial_id",
   "metadata": {
    "collapsed": true
   },
   "outputs": [],
   "source": [
    ""
   ]
  },
  {
   "metadata": {},
   "cell_type": "code",
   "outputs": [],
   "execution_count": null,
   "source": [
    "import torch\n",
    "import plotly.graph_objs as go\n",
    "from transformers import AutoModel\n",
    "\n",
    "def compute_and_visualize_param_difference(original_model_name, finetuned_model_name, param_name):\n",
    "    \"\"\"\n",
    "    Compute and visualize the differences in a specific parameter between two models, applicable to the Qwen2 model.\n",
    "    \n",
    "    Parameters:\n",
    "        original_model_name (str): Original Hugging Face model name.\n",
    "        finetuned_model_name (str): Fine-tuned Hugging Face model name.\n",
    "        param_name (str): The name of the parameter to compare (e.g., 'model.layers.0.self_attn.q_proj.weight').\n",
    "    \"\"\"\n",
    "    # Load the original and fine-tuned models\n",
    "    original_model = AutoModel.from_pretrained(original_model_name)\n",
    "    finetuned_model = AutoModel.from_pretrained(finetuned_model_name)\n",
    "    \n",
    "    original_model.eval()\n",
    "    finetuned_model.eval()\n",
    "    \n",
    "    # Get the specific parameter\n",
    "    original_param = original_model.state_dict()[param_name]\n",
    "    finetuned_param = finetuned_model.state_dict()[param_name]\n",
    "    \n",
    "    # Compute the parameter difference\n",
    "    param_diff = finetuned_param.detach().cpu().numpy() - original_param.detach().cpu().numpy()\n",
    "    \n",
    "    # Create a heatmap of the differences\n",
    "    fig = go.Figure(data=go.Heatmap(\n",
    "        z=param_diff,\n",
    "        colorscale='RdBu',  # Red-blue gradient: red indicates positive difference, blue indicates negative difference\n",
    "        colorbar=dict(title=\"Difference\")\n",
    "    ))\n",
    "\n",
    "    # Set title and labels\n",
    "    fig.update_layout(\n",
    "        title=f\"Difference between {original_model_name} and {finetuned_model_name} - {param_name}\",\n",
    "        xaxis_title=\"Units\",\n",
    "        yaxis_title=\"Units\",\n",
    "        xaxis=dict(scaleanchor=\"y\"),  # Keep the aspect ratio square\n",
    "        yaxis=dict(scaleanchor=\"x\")\n",
    "    )\n",
    "\n",
    "    # Display the image\n",
    "    fig.show()\n",
    "\n",
    "if __name__ == \"__main__\":\n",
    "    # Example usage\n",
    "    original_model_name = \"Qwen/Qwen2-7B-Instruct\"\n",
    "    finetuned_model_name = \"path/to/your/finetuned/model\"  # Replace with the path or name of your fine-tuned model\n",
    "    param_name = \"model.layers.0.self_attn.q_proj.weight\"  # Replace with the parameter name you wish to compare\n",
    "    \n",
    "    compute_and_visualize_param_difference(original_model_name, finetuned_model_name, param_name)\n"
   ],
   "id": "687ee7d417e80d8e"
  }
 ],
 "metadata": {
  "kernelspec": {
   "display_name": "Python 3",
   "language": "python",
   "name": "python3"
  },
  "language_info": {
   "codemirror_mode": {
    "name": "ipython",
    "version": 2
   },
   "file_extension": ".py",
   "mimetype": "text/x-python",
   "name": "python",
   "nbconvert_exporter": "python",
   "pygments_lexer": "ipython2",
   "version": "2.7.6"
  }
 },
 "nbformat": 4,
 "nbformat_minor": 5
}
