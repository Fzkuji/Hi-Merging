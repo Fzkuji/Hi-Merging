{
 "cells": [
  {
   "cell_type": "code",
   "execution_count": null,
   "id": "initial_id",
   "metadata": {
    "collapsed": true
   },
   "outputs": [],
   "source": [
    ""
   ]
  },
  {
   "metadata": {},
   "cell_type": "code",
   "outputs": [],
   "execution_count": null,
   "source": [
    "import torch\n",
    "import plotly.graph_objs as go\n",
    "from transformers import AutoModel\n",
    "\n",
    "def compute_and_visualize_param_difference(original_model_name, finetuned_model_name, param_name):\n",
    "    \"\"\"\n",
    "    计算并可视化两个模型在特定参数上的差异，适用于 Qwen2 模型。\n",
    "    \n",
    "    参数:\n",
    "        original_model_name (str): 原版 Hugging Face 模型名称。\n",
    "        finetuned_model_name (str): 微调后的 Hugging Face 模型名称。\n",
    "        param_name (str): 要比较的参数名称（如 'model.layers.0.self_attn.q_proj.weight'）。\n",
    "    \"\"\"\n",
    "    # 加载原版模型和微调模型\n",
    "    original_model = AutoModel.from_pretrained(original_model_name)\n",
    "    finetuned_model = AutoModel.from_pretrained(finetuned_model_name)\n",
    "    \n",
    "    original_model.eval()\n",
    "    finetuned_model.eval()\n",
    "    \n",
    "    # 获取特定参数\n",
    "    original_param = original_model.state_dict()[param_name]\n",
    "    finetuned_param = finetuned_model.state_dict()[param_name]\n",
    "    \n",
    "    # 计算参数差异\n",
    "    param_diff = finetuned_param.detach().cpu().numpy() - original_param.detach().cpu().numpy()\n",
    "    \n",
    "    # 创建差异的热力图\n",
    "    fig = go.Figure(data=go.Heatmap(\n",
    "        z=param_diff,\n",
    "        colorscale='RdBu',  # 红蓝渐变，红色代表正差异，蓝色代表负差异\n",
    "        colorbar=dict(title=\"Difference\")\n",
    "    ))\n",
    "\n",
    "    # 设置标题和标签\n",
    "    fig.update_layout(\n",
    "        title=f\"Difference between {original_model_name} and {finetuned_model_name} - {param_name}\",\n",
    "        xaxis_title=\"Units\",\n",
    "        yaxis_title=\"Units\",\n",
    "        xaxis=dict(scaleanchor=\"y\"),  # 保持横纵比例一致\n",
    "        yaxis=dict(scaleanchor=\"x\")\n",
    "    )\n",
    "\n",
    "    # 显示图像\n",
    "    fig.show()\n",
    "\n",
    "if __name__ == \"__main__\":\n",
    "    # 示例用法\n",
    "    original_model_name = \"Qwen/Qwen2-7B-Instruct\"\n",
    "    finetuned_model_name = \"path/to/your/finetuned/model\"  # 替换为微调模型的路径或名称\n",
    "    param_name = \"model.layers.0.self_attn.q_proj.weight\"  # 替换为你想要比较的参数名称\n",
    "    \n",
    "    compute_and_visualize_param_difference(original_model_name, finetuned_model_name, param_name)\n"
   ],
   "id": "687ee7d417e80d8e"
  }
 ],
 "metadata": {
  "kernelspec": {
   "display_name": "Python 3",
   "language": "python",
   "name": "python3"
  },
  "language_info": {
   "codemirror_mode": {
    "name": "ipython",
    "version": 2
   },
   "file_extension": ".py",
   "mimetype": "text/x-python",
   "name": "python",
   "nbconvert_exporter": "python",
   "pygments_lexer": "ipython2",
   "version": "2.7.6"
  }
 },
 "nbformat": 4,
 "nbformat_minor": 5
}
